{
 "cells": [
  {
   "cell_type": "markdown",
   "metadata": {},
   "source": [
    "### Importing Data Set"
   ]
  },
  {
   "cell_type": "code",
   "execution_count": 1,
   "metadata": {},
   "outputs": [
    {
     "data": {
      "text/html": [
       "<div>\n",
       "<style>\n",
       "    .dataframe thead tr:only-child th {\n",
       "        text-align: right;\n",
       "    }\n",
       "\n",
       "    .dataframe thead th {\n",
       "        text-align: left;\n",
       "    }\n",
       "\n",
       "    .dataframe tbody tr th {\n",
       "        vertical-align: top;\n",
       "    }\n",
       "</style>\n",
       "<table border=\"1\" class=\"dataframe\">\n",
       "  <thead>\n",
       "    <tr style=\"text-align: right;\">\n",
       "      <th></th>\n",
       "      <th>Balance</th>\n",
       "      <th>Sex</th>\n",
       "      <th>Education</th>\n",
       "      <th>Marriage</th>\n",
       "      <th>Age</th>\n",
       "      <th>Paid_Sep</th>\n",
       "      <th>Paid_Aug</th>\n",
       "      <th>Paid_Jul</th>\n",
       "      <th>Paid_Jun</th>\n",
       "      <th>Paid_May</th>\n",
       "      <th>Paid_Apr</th>\n",
       "      <th>Bill_Sep</th>\n",
       "      <th>Bill_Aug</th>\n",
       "      <th>Bill_Jul</th>\n",
       "      <th>Bill_Jun</th>\n",
       "      <th>Bill_May</th>\n",
       "      <th>Bill_Apr</th>\n",
       "      <th>PayAmt_Sep</th>\n",
       "      <th>PayAmt_Aug</th>\n",
       "      <th>PayAmt_Jul</th>\n",
       "      <th>PayAmt_Jun</th>\n",
       "      <th>PayAmt_May</th>\n",
       "      <th>PayAmt_Apr</th>\n",
       "      <th>Default</th>\n",
       "    </tr>\n",
       "    <tr>\n",
       "      <th>ID</th>\n",
       "      <th></th>\n",
       "      <th></th>\n",
       "      <th></th>\n",
       "      <th></th>\n",
       "      <th></th>\n",
       "      <th></th>\n",
       "      <th></th>\n",
       "      <th></th>\n",
       "      <th></th>\n",
       "      <th></th>\n",
       "      <th></th>\n",
       "      <th></th>\n",
       "      <th></th>\n",
       "      <th></th>\n",
       "      <th></th>\n",
       "      <th></th>\n",
       "      <th></th>\n",
       "      <th></th>\n",
       "      <th></th>\n",
       "      <th></th>\n",
       "      <th></th>\n",
       "      <th></th>\n",
       "      <th></th>\n",
       "      <th></th>\n",
       "    </tr>\n",
       "  </thead>\n",
       "  <tbody>\n",
       "    <tr>\n",
       "      <th>1</th>\n",
       "      <td>20000</td>\n",
       "      <td>2</td>\n",
       "      <td>2</td>\n",
       "      <td>1</td>\n",
       "      <td>24</td>\n",
       "      <td>2</td>\n",
       "      <td>2</td>\n",
       "      <td>-1</td>\n",
       "      <td>-1</td>\n",
       "      <td>-2</td>\n",
       "      <td>-2</td>\n",
       "      <td>3913</td>\n",
       "      <td>3102</td>\n",
       "      <td>689</td>\n",
       "      <td>0</td>\n",
       "      <td>0</td>\n",
       "      <td>0</td>\n",
       "      <td>0</td>\n",
       "      <td>689</td>\n",
       "      <td>0</td>\n",
       "      <td>0</td>\n",
       "      <td>0</td>\n",
       "      <td>0</td>\n",
       "      <td>1</td>\n",
       "    </tr>\n",
       "    <tr>\n",
       "      <th>2</th>\n",
       "      <td>120000</td>\n",
       "      <td>2</td>\n",
       "      <td>2</td>\n",
       "      <td>2</td>\n",
       "      <td>26</td>\n",
       "      <td>-1</td>\n",
       "      <td>2</td>\n",
       "      <td>0</td>\n",
       "      <td>0</td>\n",
       "      <td>0</td>\n",
       "      <td>2</td>\n",
       "      <td>2682</td>\n",
       "      <td>1725</td>\n",
       "      <td>2682</td>\n",
       "      <td>3272</td>\n",
       "      <td>3455</td>\n",
       "      <td>3261</td>\n",
       "      <td>0</td>\n",
       "      <td>1000</td>\n",
       "      <td>1000</td>\n",
       "      <td>1000</td>\n",
       "      <td>0</td>\n",
       "      <td>2000</td>\n",
       "      <td>1</td>\n",
       "    </tr>\n",
       "    <tr>\n",
       "      <th>3</th>\n",
       "      <td>90000</td>\n",
       "      <td>2</td>\n",
       "      <td>2</td>\n",
       "      <td>2</td>\n",
       "      <td>34</td>\n",
       "      <td>0</td>\n",
       "      <td>0</td>\n",
       "      <td>0</td>\n",
       "      <td>0</td>\n",
       "      <td>0</td>\n",
       "      <td>0</td>\n",
       "      <td>29239</td>\n",
       "      <td>14027</td>\n",
       "      <td>13559</td>\n",
       "      <td>14331</td>\n",
       "      <td>14948</td>\n",
       "      <td>15549</td>\n",
       "      <td>1518</td>\n",
       "      <td>1500</td>\n",
       "      <td>1000</td>\n",
       "      <td>1000</td>\n",
       "      <td>1000</td>\n",
       "      <td>5000</td>\n",
       "      <td>0</td>\n",
       "    </tr>\n",
       "    <tr>\n",
       "      <th>4</th>\n",
       "      <td>50000</td>\n",
       "      <td>2</td>\n",
       "      <td>2</td>\n",
       "      <td>1</td>\n",
       "      <td>37</td>\n",
       "      <td>0</td>\n",
       "      <td>0</td>\n",
       "      <td>0</td>\n",
       "      <td>0</td>\n",
       "      <td>0</td>\n",
       "      <td>0</td>\n",
       "      <td>46990</td>\n",
       "      <td>48233</td>\n",
       "      <td>49291</td>\n",
       "      <td>28314</td>\n",
       "      <td>28959</td>\n",
       "      <td>29547</td>\n",
       "      <td>2000</td>\n",
       "      <td>2019</td>\n",
       "      <td>1200</td>\n",
       "      <td>1100</td>\n",
       "      <td>1069</td>\n",
       "      <td>1000</td>\n",
       "      <td>0</td>\n",
       "    </tr>\n",
       "    <tr>\n",
       "      <th>5</th>\n",
       "      <td>50000</td>\n",
       "      <td>1</td>\n",
       "      <td>2</td>\n",
       "      <td>1</td>\n",
       "      <td>57</td>\n",
       "      <td>-1</td>\n",
       "      <td>0</td>\n",
       "      <td>-1</td>\n",
       "      <td>0</td>\n",
       "      <td>0</td>\n",
       "      <td>0</td>\n",
       "      <td>8617</td>\n",
       "      <td>5670</td>\n",
       "      <td>35835</td>\n",
       "      <td>20940</td>\n",
       "      <td>19146</td>\n",
       "      <td>19131</td>\n",
       "      <td>2000</td>\n",
       "      <td>36681</td>\n",
       "      <td>10000</td>\n",
       "      <td>9000</td>\n",
       "      <td>689</td>\n",
       "      <td>679</td>\n",
       "      <td>0</td>\n",
       "    </tr>\n",
       "  </tbody>\n",
       "</table>\n",
       "</div>"
      ],
      "text/plain": [
       "    Balance  Sex  Education  Marriage  Age  Paid_Sep  Paid_Aug  Paid_Jul  \\\n",
       "ID                                                                         \n",
       "1     20000    2          2         1   24         2         2        -1   \n",
       "2    120000    2          2         2   26        -1         2         0   \n",
       "3     90000    2          2         2   34         0         0         0   \n",
       "4     50000    2          2         1   37         0         0         0   \n",
       "5     50000    1          2         1   57        -1         0        -1   \n",
       "\n",
       "    Paid_Jun  Paid_May  Paid_Apr  Bill_Sep  Bill_Aug  Bill_Jul  Bill_Jun  \\\n",
       "ID                                                                         \n",
       "1         -1        -2        -2      3913      3102       689         0   \n",
       "2          0         0         2      2682      1725      2682      3272   \n",
       "3          0         0         0     29239     14027     13559     14331   \n",
       "4          0         0         0     46990     48233     49291     28314   \n",
       "5          0         0         0      8617      5670     35835     20940   \n",
       "\n",
       "    Bill_May  Bill_Apr  PayAmt_Sep  PayAmt_Aug  PayAmt_Jul  PayAmt_Jun  \\\n",
       "ID                                                                       \n",
       "1          0         0           0         689           0           0   \n",
       "2       3455      3261           0        1000        1000        1000   \n",
       "3      14948     15549        1518        1500        1000        1000   \n",
       "4      28959     29547        2000        2019        1200        1100   \n",
       "5      19146     19131        2000       36681       10000        9000   \n",
       "\n",
       "    PayAmt_May  PayAmt_Apr  Default  \n",
       "ID                                   \n",
       "1            0           0        1  \n",
       "2            0        2000        1  \n",
       "3         1000        5000        0  \n",
       "4         1069        1000        0  \n",
       "5          689         679        0  "
      ]
     },
     "execution_count": 1,
     "metadata": {},
     "output_type": "execute_result"
    }
   ],
   "source": [
    "import pandas as pd\n",
    "pd.set_option('display.max_columns', 100)\n",
    "\n",
    "data = pd.read_excel('default of credit card clients.xls', header=1, index_col=0)\n",
    "\n",
    "col_names = ['Balance', 'Sex', 'Education', 'Marriage', 'Age',\n",
    "            'Paid_Sep', 'Paid_Aug', 'Paid_Jul', 'Paid_Jun', 'Paid_May', 'Paid_Apr',\n",
    "            'Bill_Sep', 'Bill_Aug', 'Bill_Jul', 'Bill_Jun', 'Bill_May', 'Bill_Apr',\n",
    "            'PayAmt_Sep', 'PayAmt_Aug', 'PayAmt_Jul', 'PayAmt_Jun', 'PayAmt_May', 'PayAmt_Apr',\n",
    "            'Default']\n",
    "\n",
    "data.columns = col_names\n",
    "data = data.astype(str).astype(int)\n",
    "\n",
    "data.head()"
   ]
  },
  {
   "cell_type": "markdown",
   "metadata": {},
   "source": [
    "### Splitting and Scaling Data"
   ]
  },
  {
   "cell_type": "code",
   "execution_count": 2,
   "metadata": {
    "collapsed": true
   },
   "outputs": [],
   "source": [
    "from sklearn.model_selection import train_test_split\n",
    "from sklearn.preprocessing import StandardScaler\n",
    "\n",
    "# Step 1: Label response and predictors\n",
    "response =['Default']\n",
    "predictors = [x for x in list(data.columns) if x not in response]\n",
    "\n",
    "# Step 2: Split data set\n",
    "y = data[response].copy()\n",
    "X = data[predictors].copy()\n",
    "\n",
    "X_train, X_test, y_train, y_test = train_test_split(X, y, test_size=0.2, random_state=42)\n",
    "\n",
    "# Step 3: Prepare for scaling\n",
    "#scaler = StandardScaler().fit(X_train)\n",
    "\n",
    "# Step 4: Scale the data\n",
    "#X_train = scaler.transform(X_train)\n",
    "#X_test = scaler.transform(X_test)"
   ]
  },
  {
   "cell_type": "markdown",
   "metadata": {},
   "source": [
    "Note that scaling has been temporarily commented out as the baseline model actually doesn't perform better when using l1 penalty, as we are specifying below)\n",
    "\n",
    "However, for l2 penalty, scaling leads to the results we get from l1 penalty without scaling. This makes sense, as l2 (ridge) works \"better when predictors are of similar magnitude\" (QBUS3820), which is not the case here.\n",
    "\n",
    "Further, **not scaling the data is necessary** for the tweaks that are undertaken below for dealing with the class imbalance."
   ]
  },
  {
   "cell_type": "markdown",
   "metadata": {},
   "source": [
    "### Baseline Model"
   ]
  },
  {
   "cell_type": "code",
   "execution_count": 3,
   "metadata": {},
   "outputs": [
    {
     "data": {
      "text/plain": [
       "LogisticRegression(C=1.0, class_weight=None, dual=False, fit_intercept=True,\n",
       "          intercept_scaling=1, max_iter=100, multi_class='ovr', n_jobs=1,\n",
       "          penalty='l1', random_state=None, solver='liblinear', tol=0.0001,\n",
       "          verbose=0, warm_start=False)"
      ]
     },
     "execution_count": 3,
     "metadata": {},
     "output_type": "execute_result"
    }
   ],
   "source": [
    "import numpy as np\n",
    "from sklearn.linear_model import LogisticRegression\n",
    "\n",
    "logit = LogisticRegression(penalty='l1')\n",
    "logit.fit(X_train, np.ravel(y_train))"
   ]
  },
  {
   "cell_type": "code",
   "execution_count": 4,
   "metadata": {},
   "outputs": [
    {
     "name": "stdout",
     "output_type": "stream",
     "text": [
      "Accuracy: 0.81\n"
     ]
    }
   ],
   "source": [
    "# Score against test set\n",
    "accuracy = logit.score(X_test, y_test)\n",
    "print('Accuracy:', accuracy.round(3))"
   ]
  },
  {
   "cell_type": "code",
   "execution_count": 5,
   "metadata": {},
   "outputs": [
    {
     "name": "stdout",
     "output_type": "stream",
     "text": [
      "AUC: 0.727\n"
     ]
    }
   ],
   "source": [
    "# AUC calculation\n",
    "from sklearn.metrics import roc_auc_score\n",
    "y_score = logit.fit(X_train, np.ravel(y_train)).decision_function(X_test)\n",
    "\n",
    "roc_auc = roc_auc_score(y_test, y_score)\n",
    "print('AUC:', roc_auc.round(3))"
   ]
  },
  {
   "cell_type": "code",
   "execution_count": 6,
   "metadata": {},
   "outputs": [
    {
     "name": "stdout",
     "output_type": "stream",
     "text": [
      "AUC: 0.727\n"
     ]
    }
   ],
   "source": [
    "# ALTERNATIVE AUC calculation\n",
    "from sklearn.metrics import roc_curve, auc\n",
    "\n",
    "fpr, tpr, _ = roc_curve(y_test, y_score)\n",
    "roc_auc = auc(fpr, tpr)\n",
    "print('AUC:', roc_auc.round(3))"
   ]
  },
  {
   "cell_type": "code",
   "execution_count": 7,
   "metadata": {},
   "outputs": [
    {
     "data": {
      "image/png": "[encoded data removed]",
      "text/plain": [
       "<matplotlib.figure.Figure at 0x191287e02e8>"
      ]
     },
     "metadata": {},
     "output_type": "display_data"
    }
   ],
   "source": [
    "# ROC curve\n",
    "import matplotlib.pyplot as plt\n",
    "\n",
    "plt.figure()\n",
    "\n",
    "plt.plot(fpr, tpr, color='red',\n",
    "         label='ROC curve (area = {})'.format(roc_auc.round(2)))\n",
    "\n",
    "plt.plot([0, 1], [0, 1], color='blue', linestyle='--')\n",
    "\n",
    "plt.xlim([-0.01, 1.0])\n",
    "plt.ylim([0.0, 1.01])\n",
    "\n",
    "plt.xlabel('False Positive Rate (1-Specificity)')\n",
    "plt.ylabel('True Positive Rate (Sensitivity)')\n",
    "plt.title('Receiver operating characteristic')\n",
    "plt.legend(loc=\"lower right\")\n",
    "\n",
    "plt.show()"
   ]
  },
  {
   "cell_type": "markdown",
   "metadata": {},
   "source": [
    "Recall that we want to maximise the AUC"
   ]
  },
  {
   "cell_type": "markdown",
   "metadata": {},
   "source": [
    "### Confusion matrix"
   ]
  },
  {
   "cell_type": "code",
   "execution_count": 8,
   "metadata": {},
   "outputs": [
    {
     "name": "stdout",
     "output_type": "stream",
     "text": [
      "Confusion matrix:\n",
      " [[4549  138]\n",
      " [1002  311]]\n"
     ]
    }
   ],
   "source": [
    "# Confusion matrix\n",
    "from sklearn.metrics import confusion_matrix\n",
    "y_pred = logit.predict(X_test)\n",
    "cnf_matrix = confusion_matrix(y_test, y_pred)\n",
    "print('Confusion matrix:\\n', cnf_matrix)"
   ]
  },
  {
   "cell_type": "code",
   "execution_count": 9,
   "metadata": {
    "collapsed": true
   },
   "outputs": [],
   "source": [
    "import itertools\n",
    "\n",
    "# Based off http://scikit-learn.org/stable/auto_examples/model_selection/plot_confusion_matrix.html\n",
    "def plot_confusion_matrix(cm, classes,\n",
    "                          normalize=False,\n",
    "                          title='Confusion matrix',\n",
    "                          cmap=plt.cm.Blues):\n",
    "    \"\"\"\n",
    "    This function prints and plots the confusion matrix.\n",
    "    Normalization can be applied by setting `normalize=True`.\n",
    "    \"\"\"\n",
    "    if normalize:\n",
    "        cm = cm.astype('float') / cm.sum(axis=1)[:, np.newaxis]\n",
    "\n",
    "    plt.imshow(cm, interpolation='nearest', cmap=cmap)\n",
    "    plt.title(title)\n",
    "    plt.colorbar()\n",
    "    tick_marks = np.arange(len(classes))\n",
    "    plt.xticks(tick_marks, classes, rotation=45)\n",
    "    plt.yticks(tick_marks, classes)\n",
    "\n",
    "    fmt = '.2f' if normalize else 'd'\n",
    "    thresh = cm.max() / 2.\n",
    "    for i, j in itertools.product(range(cm.shape[0]), range(cm.shape[1])):\n",
    "        plt.text(j, i, format(cm[i, j], fmt),\n",
    "                 horizontalalignment=\"center\",\n",
    "                 color=\"white\" if cm[i, j] > thresh else \"black\")\n",
    "\n",
    "    plt.ylabel('Truth')\n",
    "    plt.xlabel('Predicted')\n",
    "    plt.tight_layout()"
   ]
  },
  {
   "cell_type": "code",
   "execution_count": 10,
   "metadata": {},
   "outputs": [
    {
     "data": {
      "image/png": "[encoded data removed]",
      "text/plain": [
       "<matplotlib.figure.Figure at 0x19129b1a908>"
      ]
     },
     "metadata": {},
     "output_type": "display_data"
    }
   ],
   "source": [
    "class_names = ['No Default','Default']\n",
    "\n",
    "plot_confusion_matrix(cnf_matrix, classes=class_names, cmap=plt.cm.RdYlGn,\n",
    "                      title='Confusion matrix')\n",
    "plt.show()"
   ]
  },
  {
   "cell_type": "markdown",
   "metadata": {},
   "source": [
    "Note the order from top to bottom, left to right: TP: 4549 | FN: 138 | FP: 1003 | TN: 310\n",
    "\n",
    "\n",
    "\n"
   ]
  },
  {
   "cell_type": "code",
   "execution_count": 11,
   "metadata": {},
   "outputs": [
    {
     "name": "stdout",
     "output_type": "stream",
     "text": [
      "Accuracy: 0.81\n",
      "Sensitivity (Recall): 0.971\n",
      "Precision: 0.936\n",
      "Specificity: 0.237\n"
     ]
    }
   ],
   "source": [
    "# Some metrics\n",
    "total = sum(sum(cnf_matrix))\n",
    "\n",
    "accuracy = (cnf_matrix[0,0]+cnf_matrix[1,1])/total\n",
    "sensitivity = cnf_matrix[0,0]/(cnf_matrix[0,0]+cnf_matrix[0,1])\n",
    "precision = cnf_matrix[0,0]/(cnf_matrix[0,0]+cnf_matrix[1,1])\n",
    "specificity = cnf_matrix[1,1]/(cnf_matrix[1,0]+cnf_matrix[1,1])\n",
    "\n",
    "print('Accuracy:', accuracy.round(3))\n",
    "print('Sensitivity (Recall):', sensitivity.round(3))\n",
    "print('Precision:', precision.round(3))\n",
    "print('Specificity:', specificity.round(3))"
   ]
  },
  {
   "cell_type": "code",
   "execution_count": 13,
   "metadata": {},
   "outputs": [
    {
     "data": {
      "image/png": "[encoded data removed]",
      "text/plain": [
       "<matplotlib.figure.Figure at 0x19129ca3e80>"
      ]
     },
     "metadata": {},
     "output_type": "display_data"
    }
   ],
   "source": [
    "test_class_ratio = y_test['Default'].value_counts()\n",
    "\n",
    "labels = 'No Default', 'Default'\n",
    "sizes = [test_class_ratio[0], test_class_ratio[1]]\n",
    "colors = ['lightcoral', 'lightskyblue']\n",
    " \n",
    "plt.pie(sizes, labels=labels, colors=colors,\n",
    "        autopct='%.1f%%')\n",
    " \n",
    "plt.axis('equal')\n",
    "plt.title('Proportion of No Defaults to Defaults in test set')\n",
    "\n",
    "plt.show()"
   ]
  },
  {
   "cell_type": "markdown",
   "metadata": {},
   "source": [
    "Basically, we aren't doing much better than guessing... 0.81 to 0.78 (with scaling), without we essentially perform at the theoretical minimum majority class rate (unless we use l1 penalty, then we get the same as scaling basically)"
   ]
  },
  {
   "cell_type": "markdown",
   "metadata": {},
   "source": [
    "### Dealing with imbalanced classes"
   ]
  },
  {
   "cell_type": "code",
   "execution_count": 14,
   "metadata": {},
   "outputs": [],
   "source": [
    "train = X_train.join(y_train)\n",
    "train_majority = train[train['Default']==0]\n",
    "train_minority = train[train['Default']==1]"
   ]
  },
  {
   "cell_type": "markdown",
   "metadata": {},
   "source": [
    "Rejoining the split X and y from test_train_split earlier, and then splitting up based on classes"
   ]
  },
  {
   "cell_type": "code",
   "execution_count": 15,
   "metadata": {},
   "outputs": [
    {
     "name": "stdout",
     "output_type": "stream",
     "text": [
      "No Defaults: 18677\n",
      "Defaults: 5323\n"
     ]
    }
   ],
   "source": [
    "n_majority = train_majority['Default'].count()\n",
    "n_minority = train_minority['Default'].count()\n",
    "\n",
    "print('No Defaults:', n_majority)\n",
    "print('Defaults:', n_minority)"
   ]
  },
  {
   "cell_type": "markdown",
   "metadata": {},
   "source": [
    "Clearly, at least in the train set that we split, there are significnatly fewer Default reponses -- this is a class imbalance problem that we must deal with (either via **upsampling the defaults**, or **downsamping the no defaults**)\n",
    "\n",
    "**Upsampling**: may lead to overfitting due to replications of the minority class, whereas;\n",
    "\n",
    "**Downsampling**: may lead to bias due to discarding potentially useful info\n",
    "\n",
    "A third, alternative method we can use is called SMOTE (synthetic minority over-sampling technique) -- link for more info: http://rikunert.com/SMOTE_explained"
   ]
  },
  {
   "cell_type": "code",
   "execution_count": 16,
   "metadata": {},
   "outputs": [],
   "source": [
    "from sklearn.utils import resample\n",
    "\n",
    "# Downsampling majority class\n",
    "train_majority_down = resample(train_majority, replace=False, n_samples=n_minority, random_state=42)\n",
    "train_down = pd.concat([train_minority, train_majority_down])\n",
    "X_down = train_down[predictors].copy()\n",
    "y_down = train_down[response].copy()\n",
    "\n",
    "# Upsampling minority class\n",
    "train_minority_up = resample(train_minority, replace=True, n_samples=n_majority, random_state=42)\n",
    "train_up = pd.concat([train_majority, train_minority_up])\n",
    "X_up = train_up[predictors].copy()\n",
    "y_up = train_up[response].copy()"
   ]
  },
  {
   "cell_type": "markdown",
   "metadata": {},
   "source": [
    "In the first cell, we are downsampling the majority class (no defaults) by essentially resampling without replacement. This allow us to build a new dataset essentially,  only up to the same number of samples as the minority class (5323)\n",
    "\n",
    "In the second cell, we are upsampling the minority class (defaults) by resampling with replacement, up to the same number of samples as no defaults (18677)"
   ]
  },
  {
   "cell_type": "code",
   "execution_count": 17,
   "metadata": {},
   "outputs": [],
   "source": [
    "#conda install -c glemaitre imbalanced-learn\n",
    "from imblearn.over_sampling import SMOTE\n",
    "\n",
    "sm = SMOTE(random_state=42, ratio='auto')\n",
    "X_SMOTE, y_SMOTE = sm.fit_sample(X_train, np.ravel(y_train))"
   ]
  },
  {
   "cell_type": "markdown",
   "metadata": {},
   "source": [
    "This method uses the SMOTE algorithm as highlighted above. Note that there are many parameters that I've left as default, for simplicty now - but some things to explore are the k neighbours and SVM."
   ]
  },
  {
   "cell_type": "markdown",
   "metadata": {},
   "source": [
    "### Running baseline models with the rebalanced classes"
   ]
  },
  {
   "cell_type": "code",
   "execution_count": 18,
   "metadata": {},
   "outputs": [
    {
     "name": "stdout",
     "output_type": "stream",
     "text": [
      "Wall time: 203 ms\n"
     ]
    }
   ],
   "source": [
    "%%time\n",
    "logit_down = LogisticRegression(penalty='l1')\n",
    "logit_down.fit(X_down, np.ravel(y_down))"
   ]
  },
  {
   "cell_type": "code",
   "execution_count": 19,
   "metadata": {},
   "outputs": [
    {
     "name": "stdout",
     "output_type": "stream",
     "text": [
      "Wall time: 885 ms\n"
     ]
    }
   ],
   "source": [
    "%%time\n",
    "logit_up = LogisticRegression(penalty='l1')\n",
    "logit_up.fit(X_up, np.ravel(y_up))"
   ]
  },
  {
   "cell_type": "markdown",
   "metadata": {},
   "source": [
    "_Note: this took noticably longer to run, due to the upsizing_"
   ]
  },
  {
   "cell_type": "code",
   "execution_count": 20,
   "metadata": {},
   "outputs": [
    {
     "name": "stdout",
     "output_type": "stream",
     "text": [
      "Wall time: 1.07 s\n"
     ]
    }
   ],
   "source": [
    "%%time\n",
    "logit_SMOTE = LogisticRegression(penalty='l1')\n",
    "logit_SMOTE.fit(X_SMOTE, np.ravel(y_SMOTE))"
   ]
  },
  {
   "cell_type": "code",
   "execution_count": 21,
   "metadata": {},
   "outputs": [
    {
     "data": {
      "text/html": [
       "<div>\n",
       "<style>\n",
       "    .dataframe thead tr:only-child th {\n",
       "        text-align: right;\n",
       "    }\n",
       "\n",
       "    .dataframe thead th {\n",
       "        text-align: left;\n",
       "    }\n",
       "\n",
       "    .dataframe tbody tr th {\n",
       "        vertical-align: top;\n",
       "    }\n",
       "</style>\n",
       "<table border=\"1\" class=\"dataframe\">\n",
       "  <thead>\n",
       "    <tr style=\"text-align: right;\">\n",
       "      <th></th>\n",
       "      <th>Accuracy</th>\n",
       "      <th>AUC</th>\n",
       "      <th>Sensitivity</th>\n",
       "      <th>Specificity</th>\n",
       "    </tr>\n",
       "  </thead>\n",
       "  <tbody>\n",
       "    <tr>\n",
       "      <th>Logistic</th>\n",
       "      <td>0.809833</td>\n",
       "      <td>0.727002</td>\n",
       "      <td>0.970557</td>\n",
       "      <td>0.236101</td>\n",
       "    </tr>\n",
       "    <tr>\n",
       "      <th>Downsampled Logit</th>\n",
       "      <td>0.690833</td>\n",
       "      <td>0.729419</td>\n",
       "      <td>0.703648</td>\n",
       "      <td>0.645088</td>\n",
       "    </tr>\n",
       "    <tr>\n",
       "      <th>Upsampled Logit</th>\n",
       "      <td>0.697667</td>\n",
       "      <td>0.727532</td>\n",
       "      <td>0.713676</td>\n",
       "      <td>0.640518</td>\n",
       "    </tr>\n",
       "    <tr>\n",
       "      <th>SMOTE Logit</th>\n",
       "      <td>0.700167</td>\n",
       "      <td>0.728909</td>\n",
       "      <td>0.721144</td>\n",
       "      <td>0.625286</td>\n",
       "    </tr>\n",
       "  </tbody>\n",
       "</table>\n",
       "</div>"
      ],
      "text/plain": [
       "                   Accuracy       AUC  Sensitivity  Specificity\n",
       "Logistic           0.809833  0.727002     0.970557     0.236101\n",
       "Downsampled Logit  0.690833  0.729419     0.703648     0.645088\n",
       "Upsampled Logit    0.697667  0.727532     0.713676     0.640518\n",
       "SMOTE Logit        0.700167  0.728909     0.721144     0.625286"
      ]
     },
     "execution_count": 21,
     "metadata": {},
     "output_type": "execute_result"
    }
   ],
   "source": [
    "col = ['Accuracy', 'AUC', 'Sensitivity', 'Specificity']\n",
    "row = ['Logistic', 'Downsampled Logit', 'Upsampled Logit', 'SMOTE Logit']\n",
    "models = [logit, logit_down, logit_up, logit_SMOTE]\n",
    "\n",
    "data = [[X_train, y_train],\n",
    "        [X_up, y_up],\n",
    "        [X_down, y_down],\n",
    "        [X_SMOTE, y_SMOTE]]\n",
    "\n",
    "results = pd.DataFrame(0.0, columns=col, index=row)\n",
    "\n",
    "n=0\n",
    "for i in models:\n",
    "    y_score = i.fit(data[n][0], np.ravel(data[n][1])).decision_function(X_test) # Calculates the score used for the AUC below\n",
    "   \n",
    "    y_pred = i.predict(X_test)\n",
    "    cnf_matrix = confusion_matrix(y_test, y_pred)\n",
    "    \n",
    "    results.iloc[n,0] = i.score(X_test, y_test)\n",
    "    results.iloc[n,1] = roc_auc_score(y_test, y_score)    \n",
    "    results.iloc[n,2] = cnf_matrix[0,0]/(cnf_matrix[0,0]+cnf_matrix[0,1])\n",
    "    results.iloc[n,3] = cnf_matrix[1,1]/(cnf_matrix[1,0]+cnf_matrix[1,1])\n",
    "    n+=1\n",
    "    \n",
    "results"
   ]
  },
  {
   "cell_type": "markdown",
   "metadata": {},
   "source": [
    "Huge... We see no improvements in the accuracy, however AUC remains constant, and we have dramatically increased Specificity (True Negatives - correct detection of defaults) relative to the trade-off we have against Sensitvity (True Positives).\n",
    "\n",
    "This may be  useful in a business context, where the cost of NOT DETECTING a default substantially outweighs the profits from several correct detections of non-defaults (i.e. True Positives); that is, we may be able to accept this decrease in Sensitivity, to increase our Specificity."
   ]
  },
  {
   "cell_type": "code",
   "execution_count": null,
   "metadata": {
    "collapsed": true
   },
   "outputs": [],
   "source": []
  },
  {
   "cell_type": "code",
   "execution_count": null,
   "metadata": {
    "collapsed": true
   },
   "outputs": [],
   "source": []
  },
  {
   "cell_type": "code",
   "execution_count": null,
   "metadata": {
    "collapsed": true
   },
   "outputs": [],
   "source": []
  },
  {
   "cell_type": "code",
   "execution_count": null,
   "metadata": {
    "collapsed": true
   },
   "outputs": [],
   "source": []
  },
  {
   "cell_type": "code",
   "execution_count": null,
   "metadata": {
    "collapsed": true
   },
   "outputs": [],
   "source": []
  },
  {
   "cell_type": "markdown",
   "metadata": {},
   "source": [
    "### OTHER STUFF"
   ]
  },
  {
   "cell_type": "markdown",
   "metadata": {},
   "source": [
    "Useful links:\n",
    "1. https://rstudio-pubs-static.s3.amazonaws.com/281390_8a4ea1f1d23043479814ec4a38dbbfd9.html\n",
    "2. https://www.kaggle.com/lucabasa/credit-card-default-a-very-pedagogical-notebook\n",
    "3. ~~https://www.kaggle.com/snaveen13/extensive-eda-and-5-classification-algorithm~~\n",
    "4. https://sevenpillarsinstitute.org/case-studies/taiwans-credit-card-crisis/ (info on Taiwan Credit Crisis)\n",
    "5. https://en.wikipedia.org/wiki/Sensitivity_and_specificity\n",
    "6. ~~https://statinfer.com/204-4-2-calculating-sensitivity-and-specificity-in-python/~~\n",
    "7. https://www.dataschool.io/simple-guide-to-confusion-matrix-terminology/\n",
    "8. http://rikunert.com/SMOTE_explained"
   ]
  },
  {
   "cell_type": "markdown",
   "metadata": {},
   "source": [
    "**To Do:**\n",
    "* Hypothesis Test\n",
    "* Confidence Intervals\n",
    "* Build a loss matrox"
   ]
  },
  {
   "cell_type": "markdown",
   "metadata": {
    "collapsed": true
   },
   "source": [
    "LOSS MATRIX:\n",
    "\n",
    "Truth/Pred | no default | default\n",
    "\n",
    "no default | profit | loss from potential repayment\n",
    "\n",
    "default | loss from default | 0"
   ]
  },
  {
   "cell_type": "markdown",
   "metadata": {},
   "source": [
    "BASELINE MODEL is just going to be treating the problem as business as usual, so that we can compare how much money we save the business from our model\n",
    "\n",
    "So BASELINE MODEL should just be something like a 50/50 (less naive, but ignorant nonetheless)"
   ]
  }
 ],
 "metadata": {
  "kernelspec": {
   "display_name": "Python 3",
   "language": "python",
   "name": "python3"
  },
  "language_info": {
   "codemirror_mode": {
    "name": "ipython",
    "version": 3
   },
   "file_extension": ".py",
   "mimetype": "text/x-python",
   "name": "python",
   "nbconvert_exporter": "python",
   "pygments_lexer": "ipython3",
   "version": "3.6.2"
  }
 },
 "nbformat": 4,
 "nbformat_minor": 2
}
